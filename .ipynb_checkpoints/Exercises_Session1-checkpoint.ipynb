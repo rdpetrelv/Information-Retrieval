{
 "cells": [
  {
   "cell_type": "markdown",
   "id": "97579cd0-2882-4863-97c8-ebfc7dc5c112",
   "metadata": {},
   "source": [
    "David PETREL\n",
    "# Recherche d'Information (Information Retrieval)\n",
    "## Exercises Session 1"
   ]
  },
  {
   "cell_type": "markdown",
   "id": "6c64b816-2518-45ed-a399-db1662d0b9d9",
   "metadata": {},
   "source": [
    "# Exercise 1: Inverted Index Example\n",
    "Here is a collection of 8 documents (one line, one document). Build its inverted index usable for a boolean search. Give a representation of this index both with postings lists (cf. lecture n°1, slide “Indexer steps: Dictionary & Postings”) and with an incidence matrix (cf. lecture n°1, slide “Term-document incidence matrices”).\n",
    "\n",
    "* Please Please Me\n",
    "* A Day in the Life\n",
    "* A Hard Day’s Night\n",
    "* Long, Long, Long\n",
    "* The Long and Winding Road\n",
    "* Love Me Do\n",
    "* Love You To\n",
    "* Please Mr. Postman"
   ]
  },
  {
   "cell_type": "code",
   "execution_count": null,
   "id": "cdf07035-5ed6-48b7-8bf2-c15073f90804",
   "metadata": {},
   "outputs": [],
   "source": [
    "strings = [\"Please Please Me\",\n",
    "           \"A Day in the Life\",\n",
    "           \"A Hard Day’s Night\",\n",
    "           \"Long, Long, Long\",\n",
    "           \"The Long and Winding Road\",\n",
    "           \"Love Me Do\",\n",
    "           \"Love You To\",\n",
    "           \"Please Mr. Postman\"]\n",
    "import nltk\n",
    "\n",
    "tokens = nltk.word_tokenize(\" \".join(strings))\n",
    "\n",
    "tokens"
   ]
  },
  {
   "cell_type": "code",
   "execution_count": null,
   "id": "eaebd075-dbd9-45b5-9cd1-b0e4f45eaf9c",
   "metadata": {},
   "outputs": [],
   "source": []
  },
  {
   "cell_type": "code",
   "execution_count": null,
   "id": "0a22c6a5",
   "metadata": {},
   "outputs": [],
   "source": []
  }
 ],
 "metadata": {
  "kernelspec": {
   "display_name": "Python 3 (ipykernel)",
   "language": "python",
   "name": "python3"
  },
  "language_info": {
   "codemirror_mode": {
    "name": "ipython",
    "version": 3
   },
   "file_extension": ".py",
   "mimetype": "text/x-python",
   "name": "python",
   "nbconvert_exporter": "python",
   "pygments_lexer": "ipython3",
   "version": "3.9.13"
  }
 },
 "nbformat": 4,
 "nbformat_minor": 5
}
