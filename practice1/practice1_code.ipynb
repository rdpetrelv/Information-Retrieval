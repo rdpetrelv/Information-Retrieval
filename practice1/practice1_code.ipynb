{
 "cells": [
  {
   "cell_type": "code",
   "execution_count": 1,
   "metadata": {},
   "outputs": [
    {
     "data": {
      "text/plain": [
       "defaultdict(list,\n",
       "            {'citizen': [1, [0]],\n",
       "             'kane': [1, [0]],\n",
       "             'casablanca': [1, [1]],\n",
       "             'godfather': [1, [2]],\n",
       "             'the': [6, [2, 3, 5, 6, 7, 9]],\n",
       "             'wind': [1, [3]],\n",
       "             'gone': [1, [3]],\n",
       "             'with': [1, [3]],\n",
       "             'arabia': [1, [4]],\n",
       "             'of': [2, [4, 5]],\n",
       "             'lawrence': [1, [4]],\n",
       "             'oz': [1, [5]],\n",
       "             'wizard': [1, [5]],\n",
       "             'graduate': [1, [6]],\n",
       "             'waterfront': [1, [7]],\n",
       "             'on': [1, [7]],\n",
       "             'schindler': [1, [8]],\n",
       "             '’': [2, [8, 9]],\n",
       "             'list': [1, [8]],\n",
       "             's': [1, [8]],\n",
       "             'singin': [1, [9]],\n",
       "             'in': [1, [9]],\n",
       "             'rain': [1, [9]]})"
      ]
     },
     "execution_count": 1,
     "metadata": {},
     "output_type": "execute_result"
    }
   ],
   "source": [
    "import collections\n",
    "import nltk\n",
    "\n",
    "documents =[\"<doc><docno>D0</docno>Citizen Kane</doc>\",\n",
    "            \"<doc><docno>D1</docno>Casablanca</doc>\",\n",
    "            \"<doc><docno>D2</docno>The Godfather The Godfather</doc>\",\n",
    "            \"<doc><docno>D3</docno>Gone with the Wind</doc>\",\n",
    "            \"<doc><docno>D4</docno>Lawrence of Arabia</doc>\",\n",
    "            \"<doc><docno>D5</docno>The Wizard of Oz The Wizard of Oz</doc>\",\n",
    "            \"<doc><docno>D6</docno>The Graduate</doc>\",\n",
    "            \"<doc><docno>D7</docno>On the Waterfront</doc>\",\n",
    "            \"<doc><docno>D8</docno>Schindler’s List</doc>\",\n",
    "            \"<doc><docno>D9</docno>Singin’ in the Rain</doc>\"]\n",
    "\n",
    "titles = [doc.split(\">\")[3].split(\"</\")[0] for doc in documents]\n",
    "\n",
    "invertedIndex = collections.defaultdict(list)\n",
    "\n",
    "for doc in titles:\n",
    "    tokens = set(nltk.word_tokenize(doc))\n",
    "    for word in tokens:\n",
    "        invertedIndex[word.lower()].append(titles.index(doc))\n",
    "\n",
    "for k, v  in invertedIndex.items():\n",
    "    invertedIndex[k] = [len(v), v]\n",
    "\n",
    "# invertedIndex = sorted(invertedIndex.items())\n",
    "invertedIndex"
   ]
  },
  {
   "cell_type": "code",
   "execution_count": null,
   "metadata": {},
   "outputs": [],
   "source": [
    "def and_boolean_query1(str1, str2) :\n",
    "    \n",
    "    if str1 not in invertedIndex.keys() or str2 not in invertedIndex.keys():\n",
    "        print(\"Error, at least one word was not found in the documents\")\n",
    "        return False\n",
    "    \n",
    "    if str1 == str2:\n",
    "        return invertedIndex.get(str1)[1]\n",
    "    test = []\n",
    "    answer = []\n",
    "    iterIndex1 = 0\n",
    "    iterIndex2 = 0\n",
    "    while iterIndex1 < len(invertedIndex.get(str1)[1]) and iterIndex2 < len(invertedIndex.get(str2)[1]):\n",
    "        if invertedIndex.get(str1)[1][iterIndex1] == invertedIndex.get(str2)[1][iterIndex2]:\n",
    "            answer.append(invertedIndex.get(str1)[1][iterIndex1])\n",
    "            iterIndex1 += 1\n",
    "            iterIndex2 += 1\n",
    "        elif invertedIndex.get(str1)[1][iterIndex1] < invertedIndex.get(str2)[1][iterIndex2]:\n",
    "            iterIndex1 += 1\n",
    "        else:\n",
    "            iterIndex2 += 1\n",
    "        \n",
    "    return answer\n",
    "\n",
    "and_boolean_query1(\"the\", \"wizard\")\n"
   ]
  },
  {
   "cell_type": "code",
   "execution_count": 7,
   "metadata": {},
   "outputs": [
    {
     "data": {
      "text/plain": [
       "[2, 3, 6, 7, 9]"
      ]
     },
     "execution_count": 7,
     "metadata": {},
     "output_type": "execute_result"
    }
   ],
   "source": [
    "possible_operations = [\"AND\", \"OR\", \"NOT\"]\n",
    "possible_operations_message = \"\"\n",
    "for i in possible_operations:\n",
    "    possible_operations_message += i +\" \"\n",
    "\n",
    "# Selects the index list for the two words in the query combination and pass them \n",
    "# to the corresponding operation funtion. return the index list of the resulting op\n",
    "def boolean_selector(str1, str2, operation):\n",
    "    if operation not in possible_operations:\n",
    "        print(\"ERR: operation not supported. Supported operations: \" + possible_operations_message)\n",
    "        return False\n",
    "    \n",
    "    if str1 not in invertedIndex.keys() or str2 not in invertedIndex.keys():\n",
    "        print(\"ERR: not found in documents, at least one word was not found in the documents\")\n",
    "        return False\n",
    "    \n",
    "    match operation:\n",
    "        case \"AND\":\n",
    "            if str1 == str2:\n",
    "                return invertedIndex.get(str1)[1]\n",
    "            return sorted(list(set(invertedIndex.get(str1)[1]).intersection(set(invertedIndex.get(str2)[1]))))\n",
    "        case \"OR\":\n",
    "            if str1 == str2:\n",
    "                return invertedIndex.get(str1)[1]\n",
    "            return sorted(list(set(invertedIndex.get(str1)[1]).union(set(invertedIndex.get(str2)[1]))))\n",
    "        case \"NOT\":\n",
    "            if str1 == str2:\n",
    "                return []\n",
    "            return sorted(list(set(invertedIndex.get(str1)[1]).difference(set(invertedIndex.get(str2)[1]))))\n",
    "\n",
    "boolean_selector(\"the\", \"of\", \"NOT\")"
   ]
  }
 ],
 "metadata": {
  "kernelspec": {
   "display_name": "Python 3",
   "language": "python",
   "name": "python3"
  },
  "language_info": {
   "codemirror_mode": {
    "name": "ipython",
    "version": 3
   },
   "file_extension": ".py",
   "mimetype": "text/x-python",
   "name": "python",
   "nbconvert_exporter": "python",
   "pygments_lexer": "ipython3",
   "version": "3.11.2"
  }
 },
 "nbformat": 4,
 "nbformat_minor": 2
}
