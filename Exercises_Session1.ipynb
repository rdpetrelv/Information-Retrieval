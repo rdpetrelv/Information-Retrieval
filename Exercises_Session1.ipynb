{
 "cells": [
  {
   "cell_type": "markdown",
   "id": "97579cd0-2882-4863-97c8-ebfc7dc5c112",
   "metadata": {},
   "source": [
    "David PETREL\n",
    "# Recherche d'Information (Information Retrieval)\n",
    "## Exercises Session 1"
   ]
  },
  {
   "cell_type": "markdown",
   "id": "6c64b816-2518-45ed-a399-db1662d0b9d9",
   "metadata": {},
   "source": [
    "## Exercise 1: Inverted Index Example\n",
    "Here is a collection of 8 documents (one line, one document). Build its inverted index usable for a boolean search. Give a representation of this index both with postings lists (cf. lecture n°1, slide “Indexer steps: Dictionary & Postings”) and with an incidence matrix (cf. lecture n°1, slide “Term-document incidence matrices”).\n",
    "\n",
    "* Please Please Me\n",
    "* A Day in the Life\n",
    "* A Hard Day’s Night\n",
    "* Long, Long, Long\n",
    "* The Long and Winding Road\n",
    "* Love Me Do\n",
    "* Love You To\n",
    "* Please Mr. Postman"
   ]
  },
  {
   "cell_type": "markdown",
   "id": "e30ef2f5",
   "metadata": {},
   "source": [
    "### Load the documents\n",
    "\n",
    "And packages required."
   ]
  },
  {
   "cell_type": "code",
   "execution_count": 1,
   "id": "cdf07035-5ed6-48b7-8bf2-c15073f90804",
   "metadata": {},
   "outputs": [],
   "source": [
    "import nltk\n",
    "import collections\n",
    "\n",
    "documents = [\"Please Please Me\",\n",
    "           \"A Day in the Life\",\n",
    "           \"A Hard Day’s Night\",\n",
    "           \"Long, Long, Long\",\n",
    "           \"The Long and Winding Road\",\n",
    "           \"Love Me Do\",\n",
    "           \"Love You To\",\n",
    "           \"Please Mr. Postman\"]"
   ]
  },
  {
   "cell_type": "markdown",
   "id": "ced26f06",
   "metadata": {},
   "source": [
    "### Inverted index representation"
   ]
  },
  {
   "cell_type": "code",
   "execution_count": 16,
   "id": "8ef8a724",
   "metadata": {},
   "outputs": [
    {
     "data": {
      "text/plain": [
       "[(',', [1, [3]]),\n",
       " ('a', [2, [1, 2]]),\n",
       " ('and', [1, [4]]),\n",
       " ('day', [2, [1, 2]]),\n",
       " ('do', [1, [5]]),\n",
       " ('hard', [1, [2]]),\n",
       " ('in', [1, [1]]),\n",
       " ('life', [1, [1]]),\n",
       " ('long', [2, [3, 4]]),\n",
       " ('love', [2, [5, 6]]),\n",
       " ('me', [2, [0, 5]]),\n",
       " ('mr.', [1, [7]]),\n",
       " ('night', [1, [2]]),\n",
       " ('please', [2, [0, 7]]),\n",
       " ('postman', [1, [7]]),\n",
       " ('road', [1, [4]]),\n",
       " ('s', [1, [2]]),\n",
       " ('the', [2, [1, 4]]),\n",
       " ('to', [1, [6]]),\n",
       " ('winding', [1, [4]]),\n",
       " ('you', [1, [6]]),\n",
       " ('’', [1, [2]])]"
      ]
     },
     "execution_count": 16,
     "metadata": {},
     "output_type": "execute_result"
    }
   ],
   "source": [
    "invertedIndex = collections.defaultdict(list)\n",
    "\n",
    "for doc in documents:\n",
    "    tokens = set(nltk.word_tokenize(doc))\n",
    "    for word in tokens:\n",
    "        invertedIndex[word.lower()].append(documents.index(doc))\n",
    "\n",
    "for k, v  in invertedIndex.items():\n",
    "    invertedIndex[k] = [len(v), v]\n",
    "\n",
    "invertedIndex = sorted(invertedIndex.items())\n",
    "invertedIndex"
   ]
  },
  {
   "cell_type": "markdown",
   "id": "acbb713e",
   "metadata": {},
   "source": [
    "### Incidence matrix representation\n",
    "\n",
    "Rows as words, the same as the previous invertedIndex\n",
    "\n",
    "Columns as document index (starting from 0 to 7)"
   ]
  },
  {
   "cell_type": "code",
   "execution_count": 45,
   "id": "eaebd075-dbd9-45b5-9cd1-b0e4f45eaf9c",
   "metadata": {},
   "outputs": [
    {
     "data": {
      "text/plain": [
       "[[0, 0, 0, 1, 0, 0, 0, 0],\n",
       " [0, 1, 1, 0, 0, 0, 0, 0],\n",
       " [0, 0, 0, 0, 1, 0, 0, 0],\n",
       " [0, 1, 1, 0, 0, 0, 0, 0],\n",
       " [0, 0, 0, 0, 0, 1, 0, 0],\n",
       " [0, 0, 1, 0, 0, 0, 0, 0],\n",
       " [0, 1, 0, 0, 0, 0, 0, 0],\n",
       " [0, 1, 0, 0, 0, 0, 0, 0],\n",
       " [0, 0, 0, 1, 1, 0, 0, 0],\n",
       " [0, 0, 0, 0, 0, 1, 1, 0],\n",
       " [1, 0, 0, 0, 0, 1, 0, 0],\n",
       " [0, 0, 0, 0, 0, 0, 0, 1],\n",
       " [0, 0, 1, 0, 0, 0, 0, 0],\n",
       " [1, 0, 0, 0, 0, 0, 0, 1],\n",
       " [0, 0, 0, 0, 0, 0, 0, 1],\n",
       " [0, 0, 0, 0, 1, 0, 0, 0],\n",
       " [0, 0, 1, 0, 0, 0, 0, 0],\n",
       " [0, 1, 0, 0, 1, 0, 0, 0],\n",
       " [0, 0, 0, 0, 0, 0, 1, 0],\n",
       " [0, 0, 0, 0, 1, 0, 0, 0],\n",
       " [0, 0, 0, 0, 0, 0, 1, 0],\n",
       " [0, 0, 1, 0, 0, 0, 0, 0]]"
      ]
     },
     "execution_count": 45,
     "metadata": {},
     "output_type": "execute_result"
    }
   ],
   "source": [
    "num_terms = len(invertedIndex)\n",
    "incidence_matrix = [[0] * len(documents) for _ in range(num_terms)]\n",
    "\n",
    "tup = invertedIndex[1]\n",
    "type(tup[1][1][1])\n",
    "\n",
    "for k in range(0,len(invertedIndex)):\n",
    "    for l in range(0,len(invertedIndex[k][1][1])):\n",
    "        incidence_matrix[k][invertedIndex[k][1][1][l]] = 1\n",
    "    \n",
    "incidence_matrix"
   ]
  },
  {
   "cell_type": "markdown",
   "id": "f3fbdbbe",
   "metadata": {},
   "source": [
    "## Exercise 2: Complexity\n",
    "Suppose that we have a collection of 1 million documents. For the two queries below, can we still run through the intersection in time O(x + y), where x and y are the lengths of the postings lists for Brutus and Caesar? If not, what can we achieve?\n",
    "* Query1: Brutus AND NOT Caesar\n",
    "* Query2: Brutus OR NOT Caesar"
   ]
  },
  {
   "cell_type": "markdown",
   "id": "7b544e27",
   "metadata": {},
   "source": [
    "1. For the first query we still can do it in O(x+y) complexity as we can use the and atered version of the merge algorithm such as\n",
    "\n",
    "____________________________________________\n",
    "```\n",
    "\n",
    "1. answer <- <>\n",
    "2. __while__ p1 =! NIL and p2 =! NIL\n",
    "3. __do if__ docID(p1) = docID(p1)  \n",
    "        __then__\n",
    "            p1 <- next(p1)\n",
    "            p2 <- next(p2)\n",
    "5. __else if__ p1 < p2\n",
    "            __then__\n",
    "                ADD(answer , docIO(p1))\n",
    "                p1 <- next(p1) \n",
    "        __else__\n",
    "            ADD(answer , docIO(p1))\n",
    "            p2 <- next(p2)\n",
    "6. __return__ answer\n",
    "\n",
    "```\n",
    "____________________________________________\n",
    "   \n",
    " "
   ]
  },
  {
   "cell_type": "markdown",
   "id": "81ffd781",
   "metadata": {},
   "source": [
    "2. For the second query we have the following algorithm:\n",
    "\n",
    "____________________________________________\n",
    "```\n",
    "\n",
    "1. answer <- <>\n",
    "2. __while__ p1 =! NIL and p2 =! NIL\n",
    "3. __do if__ docID(p1) = docID(p1)  \n",
    "        __then__\n",
    "            ADD(answer , docIO(p1))\n",
    "            p1 <- next(p1)\n",
    "            p2 <- next(p2)\n",
    "5. __else if__ p1 < p2\n",
    "            __then__\n",
    "                ADD(answer , docIO(p1))\n",
    "                p1 <- next(p1) \n",
    "        __else__\n",
    "           #TODO: Finalizar algo\n",
    "6. __return__ answer\n",
    "\n",
    "```\n",
    "____________________________________________"
   ]
  },
  {
   "cell_type": "markdown",
   "id": "96a6574b",
   "metadata": {},
   "source": [
    "#### Exercise 3: Boolean Processing Order Optimization\n",
    "In an inverted index over 0.5 million documents, the following term-frequency statistics were observed:\n",
    "| Term | Document frequency |\n",
    "| eyes | 213312 | \n",
    "| kaleidoscope | 87009  | \n",
    "| marmalade  | 107913 | \n",
    "| skies  | 271658 | \n",
    "| tangerine |  46653 | \n",
    "| trees  | 316812 | \n",
    "Recommend a query processing order for the following queries:\n",
    "\n",
    "1. Query1: \n",
    "\n",
    "(tangerine OR trees) (363 465)\n",
    "AND (marmalade OR skies) (379 571)\n",
    "AND (kaleidoscope OR eyes) (300 321)\n",
    "\n",
    "suggested order:\n",
    "(kaleidoscope OR eyes) (300 321)\n",
    "AND (marmalade OR skies) (379 571)\n",
    "AND (tangerine OR trees) (363 465)\n",
    "\n",
    "2. Query2: \n",
    "\n",
    "tangerine (46653)\n",
    "AND (NOT marmalade) (392 087)\n",
    "AND (NOT trees) (183 188)\n",
    "\n",
    "suggested order:\n",
    "\n",
    "tangerine (46653)\n",
    "AND (NOT trees) (183 188)\n",
    "AND (NOT marmalade) (392 087)"
   ]
  }
 ],
 "metadata": {
  "kernelspec": {
   "display_name": "Python 3 (ipykernel)",
   "language": "python",
   "name": "python3"
  },
  "language_info": {
   "codemirror_mode": {
    "name": "ipython",
    "version": 3
   },
   "file_extension": ".py",
   "mimetype": "text/x-python",
   "name": "python",
   "nbconvert_exporter": "python",
   "pygments_lexer": "ipython3",
   "version": "3.9.13"
  }
 },
 "nbformat": 4,
 "nbformat_minor": 5
}
